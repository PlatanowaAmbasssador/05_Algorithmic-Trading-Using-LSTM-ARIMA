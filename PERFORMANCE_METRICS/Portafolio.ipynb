{
 "cells": [
  {
   "cell_type": "code",
   "execution_count": null,
   "metadata": {},
   "outputs": [],
   "source": [
    "from performance_metrics import *"
   ]
  },
  {
   "cell_type": "markdown",
   "metadata": {},
   "source": [
    "# LSTM-ARIMA"
   ]
  },
  {
   "cell_type": "code",
   "execution_count": null,
   "metadata": {},
   "outputs": [],
   "source": [
    "STOCK_1 = 'S&P500'\n",
    "STOCK_2 = 'FTSE100'\n",
    "STOCK_3 = 'CAC'\n",
    "\n",
    "SENS = 'RANDOM_SEARCH_1'"
   ]
  },
  {
   "cell_type": "code",
   "execution_count": 4,
   "metadata": {},
   "outputs": [],
   "source": [
    "df_EC_SnP_LO = pd.read_csv(f'../LSTM-ARIMA/Results/{STOCK_1}/Sensitivity Analysis/{SENS}/Visualisations/df_EC_LO_MAIN.csv').set_index('Date')\n",
    "df_EC_FTSE_LO = pd.read_csv(f'../LSTM-ARIMA/Results/{STOCK_2}/Sensitivity Analysis/RANDOM_SEARCH_1A/Visualisations/df_EC_LO_MAIN.csv').set_index('Date')\n",
    "df_EC_CAC_LO = pd.read_csv(f'../LSTM-ARIMA/Results/{STOCK_3}/Sensitivity Analysis/{SENS}/Visualisations/df_EC_LO_MAIN.csv').set_index('Date')\n",
    "\n",
    "df_EC_SnP_LS = pd.read_csv(f'../LSTM-ARIMA/Results/{STOCK_1}/Sensitivity Analysis/{SENS}/Visualisations/df_EC_LS_MAIN.csv').set_index('Date')\n",
    "df_EC_FTSE_LS = pd.read_csv(f'../LSTM-ARIMA/Results/{STOCK_2}/Sensitivity Analysis/RANDOM_SEARCH_1A/Visualisations/df_EC_LS_MAIN.csv').set_index('Date')\n",
    "df_EC_CAC_LS = pd.read_csv(f'../LSTM-ARIMA/Results/{STOCK_3}/Sensitivity Analysis/{SENS}/Visualisations/df_EC_LS_MAIN.csv').set_index('Date')"
   ]
  },
  {
   "cell_type": "code",
   "execution_count": 5,
   "metadata": {},
   "outputs": [],
   "source": [
    "start_date = '2005-01-25'\n",
    "end_date = '2023-09-01'\n",
    "\n",
    "df_EC_SnP_LO[\"strategy_return\"] = (df_EC_SnP_LO[\"strat_return\"] * df_EC_SnP_LO['position'].shift(1))\n",
    "df_EC_FTSE_LO[\"strategy_return\"] = (df_EC_FTSE_LO[\"strat_return\"] * df_EC_FTSE_LO['position'].shift(1))\n",
    "df_EC_CAC_LO[\"strategy_return\"] = (df_EC_CAC_LO[\"strat_return\"] * df_EC_CAC_LO['position'].shift(1))\n",
    "\n",
    "refac_df_EC_SnP_LO = df_EC_SnP_LO[start_date:end_date][['buy_n_hold', 'strategy', 'strategy_return', 'bnh_return']]\n",
    "refac_df_EC_FTSE_LO = df_EC_FTSE_LO[start_date:end_date][['buy_n_hold', 'strategy', 'strategy_return', 'bnh_return']]\n",
    "refac_df_EC_CAC_LO = df_EC_CAC_LO[start_date:end_date][['buy_n_hold', 'strategy', 'strategy_return', 'bnh_return']]\n",
    "\n",
    "df_EC_SnP_LS[\"strategy_return\"] = (df_EC_SnP_LS[\"strat_return\"] * df_EC_SnP_LS['position'].shift(1))\n",
    "df_EC_FTSE_LS[\"strategy_return\"] = (df_EC_FTSE_LS[\"strat_return\"] * df_EC_FTSE_LS['position'].shift(1))\n",
    "df_EC_CAC_LS[\"strategy_return\"] = (df_EC_CAC_LS[\"strat_return\"] * df_EC_CAC_LS['position'].shift(1))\n",
    "\n",
    "refac_df_EC_SnP_LS = df_EC_SnP_LS[start_date:end_date][['buy_n_hold', 'strategy', 'strategy_return', 'bnh_return']]\n",
    "refac_df_EC_FTSE_LS = df_EC_FTSE_LS[start_date:end_date][['buy_n_hold', 'strategy', 'strategy_return', 'bnh_return']]\n",
    "refac_df_EC_CAC_LS = df_EC_CAC_LS[start_date:end_date][['buy_n_hold', 'strategy', 'strategy_return', 'bnh_return']]\n",
    "\n"
   ]
  },
  {
   "cell_type": "code",
   "execution_count": 6,
   "metadata": {},
   "outputs": [],
   "source": [
    "df_portafolio = pd.DataFrame()\n",
    "df_portafolio.index = df_EC_SnP_LO.index\n",
    "\n",
    "weight_SnP = 1/3\n",
    "weight_FTSE = 1/3\n",
    "weight_CAC = 1/3"
   ]
  },
  {
   "cell_type": "code",
   "execution_count": 7,
   "metadata": {},
   "outputs": [],
   "source": [
    "df_portafolio['Comined_Returns_Weighted'] = ((refac_df_EC_SnP_LO['strategy_return']*weight_SnP) + (refac_df_EC_FTSE_LO['strategy_return']*weight_FTSE) + (refac_df_EC_CAC_LO['strategy_return']*weight_CAC))\n",
    "df_portafolio[\"Comined_Returns_Weighted\"] = (1+df_portafolio[\"Comined_Returns_Weighted\"].fillna(0)).cumprod()\n",
    "\n",
    "df_portafolio['Comined_Returns_Weighted_LS'] = ((refac_df_EC_SnP_LS['strategy_return']*weight_SnP) + (refac_df_EC_FTSE_LS['strategy_return']*weight_FTSE) + (refac_df_EC_CAC_LS['strategy_return']*weight_CAC))\n",
    "df_portafolio[\"Comined_Returns_Weighted_LS\"] = (1+df_portafolio[\"Comined_Returns_Weighted_LS\"].fillna(0)).cumprod()\n",
    "\n",
    "df_portafolio['Comined_Returns_Weighted_buy_n_hold'] = ((refac_df_EC_SnP_LO['bnh_return']*weight_SnP) + (refac_df_EC_FTSE_LO['bnh_return']*weight_FTSE) + (refac_df_EC_CAC_LO['bnh_return']*weight_CAC))\n",
    "df_portafolio['Comined_Returns_Weighted_buy_n_hold'] = (1 + df_portafolio['Comined_Returns_Weighted_buy_n_hold'].fillna(0)).cumprod()"
   ]
  },
  {
   "cell_type": "code",
   "execution_count": 8,
   "metadata": {},
   "outputs": [],
   "source": [
    "df = pd.DataFrame()\n",
    "\n",
    "df['buynhold'] = df_portafolio['Comined_Returns_Weighted_buy_n_hold']\n",
    "df['long_only'] = df_portafolio['Comined_Returns_Weighted']\n",
    "df['long-short'] = df_portafolio['Comined_Returns_Weighted_LS']"
   ]
  },
  {
   "cell_type": "code",
   "execution_count": 11,
   "metadata": {},
   "outputs": [],
   "source": [
    "df.to_csv('./PORTFOLIO_RESULTS/portfolio_arima_lstm_results.csv')"
   ]
  },
  {
   "cell_type": "markdown",
   "metadata": {},
   "source": [
    "# LSTM"
   ]
  },
  {
   "cell_type": "code",
   "execution_count": 12,
   "metadata": {},
   "outputs": [],
   "source": [
    "STOCK_1 = 'S&P500'\n",
    "STOCK_2 = 'FTSE100'\n",
    "STOCK_3 = 'CAC'\n",
    "\n",
    "SENS = 'RANDOM_SEARCH_1'"
   ]
  },
  {
   "cell_type": "code",
   "execution_count": 13,
   "metadata": {},
   "outputs": [],
   "source": [
    "df_EC_SnP_LO = pd.read_csv(f'../LSTM/Results/{STOCK_1}/Sensitivity Analysis/{SENS}/Visualisations/df_EC_LO_MAIN.csv').set_index('Date')\n",
    "df_EC_FTSE_LO = pd.read_csv(f'../LSTM/Results/{STOCK_2}/Sensitivity Analysis/{SENS}/Visualisations/df_EC_LO_MAIN.csv').set_index('Date')\n",
    "df_EC_CAC_LO = pd.read_csv(f'../LSTM/Results/{STOCK_3}/Sensitivity Analysis/{SENS}/Visualisations/df_EC_LO_MAIN.csv').set_index('Date')\n",
    "\n",
    "df_EC_SnP_LS = pd.read_csv(f'../LSTM/Results/{STOCK_1}/Sensitivity Analysis/{SENS}/Visualisations/df_EC_LS_MAIN.csv').set_index('Date')\n",
    "df_EC_FTSE_LS = pd.read_csv(f'../LSTM/Results/{STOCK_2}/Sensitivity Analysis/{SENS}/Visualisations/df_EC_LS_MAIN.csv').set_index('Date')\n",
    "df_EC_CAC_LS = pd.read_csv(f'../LSTM/Results/{STOCK_3}/Sensitivity Analysis/{SENS}/Visualisations/df_EC_LS_MAIN.csv').set_index('Date')"
   ]
  },
  {
   "cell_type": "code",
   "execution_count": 14,
   "metadata": {},
   "outputs": [],
   "source": [
    "start_date = '2005-01-25'\n",
    "end_date = '2023-09-01'\n",
    "\n",
    "df_EC_SnP_LO[\"strategy_return\"] = (df_EC_SnP_LO[\"strat_return\"] * df_EC_SnP_LO['position'].shift(1))\n",
    "df_EC_FTSE_LO[\"strategy_return\"] = (df_EC_FTSE_LO[\"strat_return\"] * df_EC_FTSE_LO['position'].shift(1))\n",
    "df_EC_CAC_LO[\"strategy_return\"] = (df_EC_CAC_LO[\"strat_return\"] * df_EC_CAC_LO['position'].shift(1))\n",
    "\n",
    "refac_df_EC_SnP_LO = df_EC_SnP_LO[start_date:end_date][['buy_n_hold', 'strategy', 'strategy_return', 'bnh_return']]\n",
    "refac_df_EC_FTSE_LO = df_EC_FTSE_LO[start_date:end_date][['buy_n_hold', 'strategy', 'strategy_return', 'bnh_return']]\n",
    "refac_df_EC_CAC_LO = df_EC_CAC_LO[start_date:end_date][['buy_n_hold', 'strategy', 'strategy_return', 'bnh_return']]\n",
    "\n",
    "df_EC_SnP_LS[\"strategy_return\"] = (df_EC_SnP_LS[\"strat_return\"] * df_EC_SnP_LS['position'].shift(1))\n",
    "df_EC_FTSE_LS[\"strategy_return\"] = (df_EC_FTSE_LS[\"strat_return\"] * df_EC_FTSE_LS['position'].shift(1))\n",
    "df_EC_CAC_LS[\"strategy_return\"] = (df_EC_CAC_LS[\"strat_return\"] * df_EC_CAC_LS['position'].shift(1))\n",
    "\n",
    "refac_df_EC_SnP_LS = df_EC_SnP_LS[start_date:end_date][['buy_n_hold', 'strategy', 'strategy_return', 'bnh_return']]\n",
    "refac_df_EC_FTSE_LS = df_EC_FTSE_LS[start_date:end_date][['buy_n_hold', 'strategy', 'strategy_return', 'bnh_return']]\n",
    "refac_df_EC_CAC_LS = df_EC_CAC_LS[start_date:end_date][['buy_n_hold', 'strategy', 'strategy_return', 'bnh_return']]\n",
    "\n"
   ]
  },
  {
   "cell_type": "code",
   "execution_count": 15,
   "metadata": {},
   "outputs": [],
   "source": [
    "df_portafolio = pd.DataFrame()\n",
    "df_portafolio.index = df_EC_SnP_LO.index\n",
    "\n",
    "weight_SnP = 1/3\n",
    "weight_FTSE = 1/3\n",
    "weight_CAC = 1/3"
   ]
  },
  {
   "cell_type": "code",
   "execution_count": 16,
   "metadata": {},
   "outputs": [],
   "source": [
    "df_portafolio['Comined_Returns_Weighted'] = ((refac_df_EC_SnP_LO['strategy_return']*weight_SnP) + (refac_df_EC_FTSE_LO['strategy_return']*weight_FTSE) + (refac_df_EC_CAC_LO['strategy_return']*weight_CAC))\n",
    "df_portafolio[\"Comined_Returns_Weighted\"] = (1+df_portafolio[\"Comined_Returns_Weighted\"].fillna(0)).cumprod()\n",
    "\n",
    "df_portafolio['Comined_Returns_Weighted_LS'] = ((refac_df_EC_SnP_LS['strategy_return']*weight_SnP) + (refac_df_EC_FTSE_LS['strategy_return']*weight_FTSE) + (refac_df_EC_CAC_LS['strategy_return']*weight_CAC))\n",
    "df_portafolio[\"Comined_Returns_Weighted_LS\"] = (1+df_portafolio[\"Comined_Returns_Weighted_LS\"].fillna(0)).cumprod()\n",
    "\n",
    "df_portafolio['Comined_Returns_Weighted_buy_n_hold'] = ((refac_df_EC_SnP_LO['bnh_return']*weight_SnP) + (refac_df_EC_FTSE_LO['bnh_return']*weight_FTSE) + (refac_df_EC_CAC_LO['bnh_return']*weight_CAC))\n",
    "df_portafolio['Comined_Returns_Weighted_buy_n_hold'] = (1 + df_portafolio['Comined_Returns_Weighted_buy_n_hold'].fillna(0)).cumprod()"
   ]
  },
  {
   "cell_type": "code",
   "execution_count": 17,
   "metadata": {},
   "outputs": [],
   "source": [
    "df = pd.DataFrame()\n",
    "\n",
    "df['buynhold'] = df_portafolio['Comined_Returns_Weighted_buy_n_hold']\n",
    "df['long_only'] = df_portafolio['Comined_Returns_Weighted']\n",
    "df['long-short'] = df_portafolio['Comined_Returns_Weighted_LS']"
   ]
  },
  {
   "cell_type": "code",
   "execution_count": 18,
   "metadata": {},
   "outputs": [],
   "source": [
    "df.to_csv('./PORTFOLIO_RESULTS/portfolio_lstm_results.csv')"
   ]
  },
  {
   "cell_type": "markdown",
   "metadata": {},
   "source": [
    "# ARIMA"
   ]
  },
  {
   "cell_type": "code",
   "execution_count": 19,
   "metadata": {},
   "outputs": [],
   "source": [
    "STOCK_1 = 'S&P500'\n",
    "STOCK_2 = 'FTSE100'\n",
    "STOCK_3 = 'CAC'\n",
    "\n",
    "SENS = 'RANDOM_SEARCH_1'"
   ]
  },
  {
   "cell_type": "code",
   "execution_count": 20,
   "metadata": {},
   "outputs": [],
   "source": [
    "df_EC_SnP_LO = pd.read_csv(f'../ARIMA/Results/{STOCK_1}/Sensitivity Analysis/{SENS}/Visualisations/df_EC_LO_MAIN.csv').set_index('Date')\n",
    "df_EC_FTSE_LO = pd.read_csv(f'../ARIMA/Results/{STOCK_2}/Sensitivity Analysis/{SENS}/Visualisations/df_EC_LO_MAIN.csv').set_index('Date')\n",
    "df_EC_CAC_LO = pd.read_csv(f'../ARIMA/Results/{STOCK_3}/Sensitivity Analysis/{SENS}/Visualisations/df_EC_LO_MAIN.csv').set_index('Date')\n",
    "\n",
    "df_EC_SnP_LS = pd.read_csv(f'../ARIMA/Results/{STOCK_1}/Sensitivity Analysis/{SENS}/Visualisations/df_EC_LS_MAIN.csv').set_index('Date')\n",
    "df_EC_FTSE_LS = pd.read_csv(f'../ARIMA/Results/{STOCK_2}/Sensitivity Analysis/{SENS}/Visualisations/df_EC_LS_MAIN.csv').set_index('Date')\n",
    "df_EC_CAC_LS = pd.read_csv(f'../ARIMA/Results/{STOCK_3}/Sensitivity Analysis/{SENS}/Visualisations/df_EC_LS_MAIN.csv').set_index('Date')"
   ]
  },
  {
   "cell_type": "code",
   "execution_count": 21,
   "metadata": {},
   "outputs": [],
   "source": [
    "start_date = '2005-01-25'\n",
    "end_date = '2023-08-30'\n",
    "\n",
    "df_EC_SnP_LO[\"strategy_return\"] = (df_EC_SnP_LO[\"strat_return\"] * df_EC_SnP_LO['position'].shift(1))\n",
    "df_EC_FTSE_LO[\"strategy_return\"] = (df_EC_FTSE_LO[\"strat_return\"] * df_EC_FTSE_LO['position'].shift(1))\n",
    "df_EC_CAC_LO[\"strategy_return\"] = (df_EC_CAC_LO[\"strat_return\"] * df_EC_CAC_LO['position'].shift(1))\n",
    "\n",
    "refac_df_EC_SnP_LO = df_EC_SnP_LO[start_date:end_date][['buy_n_hold', 'strategy', 'strategy_return', 'bnh_return']]\n",
    "refac_df_EC_FTSE_LO = df_EC_FTSE_LO[start_date:end_date][['buy_n_hold', 'strategy', 'strategy_return', 'bnh_return']]\n",
    "refac_df_EC_CAC_LO = df_EC_CAC_LO[start_date:end_date][['buy_n_hold', 'strategy', 'strategy_return', 'bnh_return']]\n",
    "\n",
    "df_EC_SnP_LS[\"strategy_return\"] = (df_EC_SnP_LS[\"strat_return\"] * df_EC_SnP_LS['position'].shift(1))\n",
    "df_EC_FTSE_LS[\"strategy_return\"] = (df_EC_FTSE_LS[\"strat_return\"] * df_EC_FTSE_LS['position'].shift(1))\n",
    "df_EC_CAC_LS[\"strategy_return\"] = (df_EC_CAC_LS[\"strat_return\"] * df_EC_CAC_LS['position'].shift(1))\n",
    "\n",
    "refac_df_EC_SnP_LS = df_EC_SnP_LS[start_date:end_date][['buy_n_hold', 'strategy', 'strategy_return', 'bnh_return']]\n",
    "refac_df_EC_FTSE_LS = df_EC_FTSE_LS[start_date:end_date][['buy_n_hold', 'strategy', 'strategy_return', 'bnh_return']]\n",
    "refac_df_EC_CAC_LS = df_EC_CAC_LS[start_date:end_date][['buy_n_hold', 'strategy', 'strategy_return', 'bnh_return']]\n",
    "\n"
   ]
  },
  {
   "cell_type": "code",
   "execution_count": 22,
   "metadata": {},
   "outputs": [],
   "source": [
    "df_portafolio = pd.DataFrame()\n",
    "df_portafolio.index = df_EC_SnP_LO.index\n",
    "\n",
    "weight_SnP = 1/3\n",
    "weight_FTSE = 1/3\n",
    "weight_CAC = 1/3"
   ]
  },
  {
   "cell_type": "code",
   "execution_count": 23,
   "metadata": {},
   "outputs": [],
   "source": [
    "df_portafolio['Comined_Returns_Weighted'] = ((refac_df_EC_SnP_LO['strategy_return']*weight_SnP) + (refac_df_EC_FTSE_LO['strategy_return']*weight_FTSE) + (refac_df_EC_CAC_LO['strategy_return']*weight_CAC))\n",
    "df_portafolio[\"Comined_Returns_Weighted\"] = (1+df_portafolio[\"Comined_Returns_Weighted\"].fillna(0)).cumprod()\n",
    "\n",
    "df_portafolio['Comined_Returns_Weighted_LS'] = ((refac_df_EC_SnP_LS['strategy_return']*weight_SnP) + (refac_df_EC_FTSE_LS['strategy_return']*weight_FTSE) + (refac_df_EC_CAC_LS['strategy_return']*weight_CAC))\n",
    "df_portafolio[\"Comined_Returns_Weighted_LS\"] = (1+df_portafolio[\"Comined_Returns_Weighted_LS\"].fillna(0)).cumprod()\n",
    "\n",
    "df_portafolio['Comined_Returns_Weighted_buy_n_hold'] = ((refac_df_EC_SnP_LO['bnh_return']*weight_SnP) + (refac_df_EC_FTSE_LO['bnh_return']*weight_FTSE) + (refac_df_EC_CAC_LO['bnh_return']*weight_CAC))\n",
    "df_portafolio['Comined_Returns_Weighted_buy_n_hold'] = (1 + df_portafolio['Comined_Returns_Weighted_buy_n_hold'].fillna(0)).cumprod()"
   ]
  },
  {
   "cell_type": "code",
   "execution_count": 24,
   "metadata": {},
   "outputs": [],
   "source": [
    "df = pd.DataFrame()\n",
    "\n",
    "df['buynhold'] = df_portafolio['Comined_Returns_Weighted_buy_n_hold']\n",
    "df['long_only'] = df_portafolio['Comined_Returns_Weighted']\n",
    "df['long-short'] = df_portafolio['Comined_Returns_Weighted_LS']"
   ]
  },
  {
   "cell_type": "code",
   "execution_count": 25,
   "metadata": {},
   "outputs": [],
   "source": [
    "df.to_csv('./PORTFOLIO_RESULTS/portfolio_arima_results.csv')"
   ]
  },
  {
   "cell_type": "markdown",
   "metadata": {},
   "source": [
    "# PERFORMANCE METRICS"
   ]
  },
  {
   "cell_type": "code",
   "execution_count": 30,
   "metadata": {},
   "outputs": [],
   "source": [
    "df_ARIMA = pd.read_csv('./PORTFOLIO_RESULTS/portfolio_arima_results.csv')\n",
    "df_ARIMA_LO = df_ARIMA[['buynhold','long_only']]\n",
    "df_ARIMA_LO = df_ARIMA_LO.rename(columns={'buynhold':'buy_n_hold', 'long_only':'strategy'})\n",
    "df_ARIMA_LS = df_ARIMA[['buynhold','long-short']]\n",
    "df_ARIMA_LS = df_ARIMA_LS.rename(columns={'buynhold':'buy_n_hold', 'long-short':'strategy'})\n",
    "\n",
    "df_LSTM = pd.read_csv('./PORTFOLIO_RESULTS/portfolio_lstm_results.csv')\n",
    "df_LSTM_LO = df_LSTM[['buynhold','long_only']]\n",
    "df_LSTM_LO = df_LSTM_LO.rename(columns={'buynhold':'buy_n_hold', 'long_only':'strategy'})\n",
    "df_LSTM_LS = df_LSTM[['buynhold','long-short']]\n",
    "df_LSTM_LS = df_LSTM_LS.rename(columns={'buynhold':'buy_n_hold', 'long-short':'strategy'})\n",
    "\n",
    "df_ARIMA_LSTM = pd.read_csv('./PORTFOLIO_RESULTS/portfolio_arima_lstm_results.csv')\n",
    "df_ARIMA_LSTM_LO = df_ARIMA_LSTM[['buynhold','long_only']]\n",
    "df_ARIMA_LSTM_LO = df_ARIMA_LSTM_LO.rename(columns={'buynhold':'buy_n_hold', 'long_only':'strategy'})\n",
    "df_ARIMA_LSTM_LS = df_ARIMA_LSTM[['buynhold','long-short']]\n",
    "df_ARIMA_LSTM_LS = df_ARIMA_LSTM_LS.rename(columns={'buynhold':'buy_n_hold', 'long-short':'strategy'})"
   ]
  },
  {
   "cell_type": "code",
   "execution_count": 31,
   "metadata": {},
   "outputs": [],
   "source": [
    "df_perf_metr_LO = performance_metrics(\"**Long Only**\", df_LSTM_LO, df_ARIMA_LO, df_LSTM_LO, df_ARIMA_LSTM_LO, '**S&P 500**')"
   ]
  },
  {
   "cell_type": "code",
   "execution_count": 32,
   "metadata": {},
   "outputs": [],
   "source": [
    "df_perf_metr_LO.to_csv('./PORTFOLIO_RESULTS/df_perf_metr_LO.csv')"
   ]
  },
  {
   "cell_type": "code",
   "execution_count": 33,
   "metadata": {},
   "outputs": [],
   "source": [
    "df_perf_metr_LS = performance_metrics(\"**Long Short**\", df_LSTM_LS, df_ARIMA_LS, df_LSTM_LS, df_ARIMA_LSTM_LS, '**S&P 500**')"
   ]
  },
  {
   "cell_type": "code",
   "execution_count": 34,
   "metadata": {},
   "outputs": [],
   "source": [
    "df_perf_metr_LS.to_csv('./PORTFOLIO_RESULTS/df_perf_metr_LS.csv')"
   ]
  }
 ],
 "metadata": {
  "kernelspec": {
   "display_name": "latest_env",
   "language": "python",
   "name": "python3"
  },
  "language_info": {
   "codemirror_mode": {
    "name": "ipython",
    "version": 3
   },
   "file_extension": ".py",
   "mimetype": "text/x-python",
   "name": "python",
   "nbconvert_exporter": "python",
   "pygments_lexer": "ipython3",
   "version": "3.8.15"
  },
  "orig_nbformat": 4
 },
 "nbformat": 4,
 "nbformat_minor": 2
}
